{
  "cells": [
    {
      "cell_type": "markdown",
      "metadata": {
        "id": "6lbkquymwhf_"
      },
      "source": [
        "upload your `.csv` files in `data/csv` if you want to build your own dataset"
      ]
    },
    {
      "cell_type": "code",
      "execution_count": 8,
      "metadata": {
        "colab": {
          "base_uri": "https://localhost:8080/"
        },
        "id": "AXkB0pX_qVuH",
        "outputId": "ae94f33f-b342-4d3e-f9b8-bbb77dad0e62"
      },
      "outputs": [
        {
          "name": "stdout",
          "output_type": "stream",
          "text": [
            "extension_0.csv  extension_4.csv  fist_2.csv  flexion_0.csv  flexion_4.csv\n",
            "extension_1.csv  extension_5.csv  fist_3.csv  flexion_1.csv  flexion_5.csv\n",
            "extension_2.csv  fist_0.csv\t  fist_4.csv  flexion_2.csv\n",
            "extension_3.csv  fist_1.csv\t  fist_5.csv  flexion_3.csv\n"
          ]
        }
      ],
      "source": [
        "!ls data/csv"
      ]
    },
    {
      "cell_type": "markdown",
      "metadata": {
        "id": "FGWwXFz5sbcz"
      },
      "source": [
        "# build manually-annotated dataset"
      ]
    },
    {
      "cell_type": "code",
      "execution_count": 9,
      "metadata": {
        "colab": {
          "base_uri": "https://localhost:8080/"
        },
        "id": "a4FydfUWrgIf",
        "outputId": "823f0dc7-c9b7-4f33-cff9-d96ec770f625"
      },
      "outputs": [
        {
          "name": "stdout",
          "output_type": "stream",
          "text": [
            "WARNING: `flexion_0.csv` has more than 8 columns. Ignoring the exceeding ones...\n",
            "`.gitkeep` doesn't follow the convention. A compliant file name is `gesture-name_id.csv`\n",
            "(5595, 30, 9) (5595,) int16 uint8\n",
            "(array([0, 1, 2, 7], dtype=uint8), array([2787,  936,  936,  936]))\n"
          ]
        }
      ],
      "source": [
        "from constants import NPZ_DATASET_SHARDS_PATH, SAMPLE_LENGTH, SAMPLE_OVERLAP, NP_DATASET_PATH, CSV_DATASET_SHARDS_PATH\n",
        "from build_ds import build_ds\n",
        "import numpy as np\n",
        "\n",
        "\n",
        "\n",
        "X, y = build_ds(NPZ_DATASET_SHARDS_PATH, SAMPLE_LENGTH, SAMPLE_OVERLAP, CSV_DATASET_SHARDS_PATH)\n",
        "print(X.shape, y.shape, X.dtype, y.dtype)\n",
        "print(np.unique(y, return_counts=True))\n",
        "np.savez_compressed(NP_DATASET_PATH, X=X, y=y)"
      ]
    },
    {
      "cell_type": "markdown",
      "metadata": {
        "id": "olgSP1iFskG-"
      },
      "source": [
        "# build kmeans-annotated dataset\n"
      ]
    },
    {
      "cell_type": "code",
      "execution_count": 10,
      "metadata": {
        "colab": {
          "base_uri": "https://localhost:8080/"
        },
        "id": "_Kq7efe8siGA",
        "outputId": "95cd3131-ea2d-4dd6-b980-a5030485fa69"
      },
      "outputs": [
        {
          "name": "stdout",
          "output_type": "stream",
          "text": [
            "Original labels distribution:\n",
            "(array([0, 1, 2, 7], dtype=uint8), array([2787,  936,  936,  936]))\n",
            "\n",
            "******\n",
            "Kmeans labels distribution:\n",
            "(array([0, 1, 2, 3], dtype=int32), array([ 936, 2893,  957,  809]))\n"
          ]
        }
      ],
      "source": [
        "from clustering import clustering_pipeline\n",
        "from constants import NP_DATASET_KMEANS_PATH\n",
        "from utils import get_dataset\n",
        "\n",
        "\n",
        "\n",
        "X, y = get_dataset(dtype_data=np.float64)\n",
        "clustering_pipeline.fit(X)\n",
        "labels = clustering_pipeline._final_estimator.labels_\n",
        "print('Original labels distribution:')\n",
        "print(np.unique(y, return_counts=True))\n",
        "print('\\n******\\nKmeans labels distribution:')\n",
        "print(np.unique(labels, return_counts=True))\n",
        "np.savez_compressed(NP_DATASET_KMEANS_PATH, X=X, y=labels)"
      ]
    },
    {
      "cell_type": "markdown",
      "metadata": {
        "id": "GsLh8WTxt4S6"
      },
      "source": [
        "# quick test"
      ]
    },
    {
      "cell_type": "code",
      "execution_count": 11,
      "metadata": {
        "colab": {
          "base_uri": "https://localhost:8080/"
        },
        "id": "OlXj9wFBxCnb",
        "outputId": "b9a5cd08-f180-4dc0-e017-5c7c273ba7d5"
      },
      "outputs": [
        {
          "name": "stdout",
          "output_type": "stream",
          "text": [
            "{'fit_time': [0.23417949676513672, 0.2393202781677246, 0.27869129180908203, 0.16337013244628906, 0.14156293869018555], 'score_time': [0.050717830657958984, 0.04937863349914551, 0.051511526107788086, 0.04736733436584473, 0.049300432205200195], 'test_accuracy': [0.9955317247542449, 0.9892761394101877, 0.9919571045576407, 0.9892761394101877, 0.9910634495084897], 'test_f1_macro': [0.9953060959981763, 0.9876063969787936, 0.9919490151201376, 0.9869364102074583, 0.9906565886908859], 'test_f1_micro': [0.9955317247542449, 0.9892761394101877, 0.9919571045576407, 0.9892761394101877, 0.9910634495084897]}\n",
            "\n",
            "\n",
            "***************************************************\n",
            "* See `cv_report.json` for a better visualization *\n",
            "***************************************************\n"
          ]
        }
      ],
      "source": [
        "from utils import get_dataset\n",
        "from grid_search import scoring\n",
        "from pipelines import preprocessing_pipeline\n",
        "from cross_validation import np2list\n",
        "from constants import CROSS_VALIDATION_REPORT_PATH\n",
        "from sklearn.svm import SVC\n",
        "from sklearn.model_selection import cross_validate\n",
        "from sklearn.pipeline import make_pipeline\n",
        "import json\n",
        "import numpy as np\n",
        "\n",
        "\n",
        "X, y = get_dataset(NP_DATASET_KMEANS_PATH)\n",
        "model = SVC()\n",
        "pipeline = make_pipeline(preprocessing_pipeline, model)\n",
        "scores = cross_validate(pipeline, X, y, cv=5, scoring=scoring, n_jobs=-1)\n",
        "np2list(scores)\n",
        "print(scores)\n",
        "print(f\"\\n\\n{'*' * 51}\\n* See `{CROSS_VALIDATION_REPORT_PATH}` for a better visualization *\\n{'*' * 51}\")\n",
        "with open(CROSS_VALIDATION_REPORT_PATH, 'w') as f:\n",
        "    json.dump(scores, f)"
      ]
    }
  ],
  "metadata": {
    "colab": {
      "collapsed_sections": [],
      "provenance": []
    },
    "kernelspec": {
      "display_name": "Python 3",
      "name": "python3"
    },
    "language_info": {
      "name": "python"
    }
  },
  "nbformat": 4,
  "nbformat_minor": 0
}
